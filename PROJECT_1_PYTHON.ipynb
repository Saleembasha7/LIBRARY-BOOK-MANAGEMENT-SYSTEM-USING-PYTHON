{
 "cells": [
  {
   "cell_type": "code",
   "execution_count": null,
   "id": "07570e76",
   "metadata": {},
   "outputs": [],
   "source": []
  },
  {
   "cell_type": "markdown",
   "id": "2299f28d",
   "metadata": {},
   "source": [
    "Q1A: This project uses the skills learnt from week 1 to week 6. The aim of this project is to create an English Dictionary app that returns definitions of English words. When the application is started, it displays a menu as follows:\n",
    "\n",
    "Main Menu\n",
    "\n",
    "Add a new word\n",
    "Find the meaning\n",
    "Update a word\n",
    "Exit\n",
    "\n",
    "Enter Choice:\n",
    "\n",
    "If item 1 is selected, it should prompt for a word and then accept its meaning. This pair of word and its meaning should be stored in a file called ‘words.txt’. When item 2 is selected, it should prompt for a word, search that word in the file ‘words.txt’ and return the meaning if it is found. If the meaning is not found, it should display an appropriate message. Similarly, when choice 3 is entered, it should accept a word and update its meaning. In all the above three cases, the prompt should return to the main menu. The words and their meanings should be stored as a dictionary in words.txt, using the concept of serialization. If choice 4 is selected, a graceful exit should be performed"
   ]
  },
  {
   "cell_type": "code",
   "execution_count": 34,
   "id": "d7590155",
   "metadata": {},
   "outputs": [
    {
     "name": "stdout",
     "output_type": "stream",
     "text": [
      "Welcome to the english dictionary app\n",
      "1.Add a new word\n",
      "2.Find a meaning\n",
      "3.Update new word\n",
      "4.Exit\n"
     ]
    },
    {
     "ename": "KeyboardInterrupt",
     "evalue": "Interrupted by user",
     "output_type": "error",
     "traceback": [
      "\u001b[1;31m---------------------------------------------------------------------------\u001b[0m",
      "\u001b[1;31mKeyboardInterrupt\u001b[0m                         Traceback (most recent call last)",
      "\u001b[1;32m~\\AppData\\Local\\Temp\\ipykernel_23992\\2220505256.py\u001b[0m in \u001b[0;36m<module>\u001b[1;34m\u001b[0m\n\u001b[0;32m      7\u001b[0m \u001b[1;33m\u001b[0m\u001b[0m\n\u001b[0;32m      8\u001b[0m \u001b[1;32mwhile\u001b[0m \u001b[1;32mTrue\u001b[0m\u001b[1;33m:\u001b[0m\u001b[1;33m\u001b[0m\u001b[1;33m\u001b[0m\u001b[0m\n\u001b[1;32m----> 9\u001b[1;33m     \u001b[0mchoices\u001b[0m\u001b[1;33m=\u001b[0m\u001b[0mint\u001b[0m\u001b[1;33m(\u001b[0m\u001b[0minput\u001b[0m\u001b[1;33m(\u001b[0m\u001b[1;34m'Enter the choices '\u001b[0m\u001b[1;33m)\u001b[0m\u001b[1;33m)\u001b[0m\u001b[1;33m\u001b[0m\u001b[1;33m\u001b[0m\u001b[0m\n\u001b[0m\u001b[0;32m     10\u001b[0m \u001b[1;33m\u001b[0m\u001b[0m\n\u001b[0;32m     11\u001b[0m     \u001b[1;32mif\u001b[0m \u001b[0mchoices\u001b[0m \u001b[1;33m==\u001b[0m \u001b[1;36m1\u001b[0m\u001b[1;33m:\u001b[0m\u001b[1;33m\u001b[0m\u001b[1;33m\u001b[0m\u001b[0m\n",
      "\u001b[1;32mC:\\ProgramData\\Anaconda3\\lib\\site-packages\\ipykernel\\kernelbase.py\u001b[0m in \u001b[0;36mraw_input\u001b[1;34m(self, prompt)\u001b[0m\n\u001b[0;32m   1175\u001b[0m                 \u001b[1;34m\"raw_input was called, but this frontend does not support input requests.\"\u001b[0m\u001b[1;33m\u001b[0m\u001b[1;33m\u001b[0m\u001b[0m\n\u001b[0;32m   1176\u001b[0m             )\n\u001b[1;32m-> 1177\u001b[1;33m         return self._input_request(\n\u001b[0m\u001b[0;32m   1178\u001b[0m             \u001b[0mstr\u001b[0m\u001b[1;33m(\u001b[0m\u001b[0mprompt\u001b[0m\u001b[1;33m)\u001b[0m\u001b[1;33m,\u001b[0m\u001b[1;33m\u001b[0m\u001b[1;33m\u001b[0m\u001b[0m\n\u001b[0;32m   1179\u001b[0m             \u001b[0mself\u001b[0m\u001b[1;33m.\u001b[0m\u001b[0m_parent_ident\u001b[0m\u001b[1;33m[\u001b[0m\u001b[1;34m\"shell\"\u001b[0m\u001b[1;33m]\u001b[0m\u001b[1;33m,\u001b[0m\u001b[1;33m\u001b[0m\u001b[1;33m\u001b[0m\u001b[0m\n",
      "\u001b[1;32mC:\\ProgramData\\Anaconda3\\lib\\site-packages\\ipykernel\\kernelbase.py\u001b[0m in \u001b[0;36m_input_request\u001b[1;34m(self, prompt, ident, parent, password)\u001b[0m\n\u001b[0;32m   1217\u001b[0m             \u001b[1;32mexcept\u001b[0m \u001b[0mKeyboardInterrupt\u001b[0m\u001b[1;33m:\u001b[0m\u001b[1;33m\u001b[0m\u001b[1;33m\u001b[0m\u001b[0m\n\u001b[0;32m   1218\u001b[0m                 \u001b[1;31m# re-raise KeyboardInterrupt, to truncate traceback\u001b[0m\u001b[1;33m\u001b[0m\u001b[1;33m\u001b[0m\u001b[0m\n\u001b[1;32m-> 1219\u001b[1;33m                 \u001b[1;32mraise\u001b[0m \u001b[0mKeyboardInterrupt\u001b[0m\u001b[1;33m(\u001b[0m\u001b[1;34m\"Interrupted by user\"\u001b[0m\u001b[1;33m)\u001b[0m \u001b[1;32mfrom\u001b[0m \u001b[1;32mNone\u001b[0m\u001b[1;33m\u001b[0m\u001b[1;33m\u001b[0m\u001b[0m\n\u001b[0m\u001b[0;32m   1220\u001b[0m             \u001b[1;32mexcept\u001b[0m \u001b[0mException\u001b[0m\u001b[1;33m:\u001b[0m\u001b[1;33m\u001b[0m\u001b[1;33m\u001b[0m\u001b[0m\n\u001b[0;32m   1221\u001b[0m                 \u001b[0mself\u001b[0m\u001b[1;33m.\u001b[0m\u001b[0mlog\u001b[0m\u001b[1;33m.\u001b[0m\u001b[0mwarning\u001b[0m\u001b[1;33m(\u001b[0m\u001b[1;34m\"Invalid Message:\"\u001b[0m\u001b[1;33m,\u001b[0m \u001b[0mexc_info\u001b[0m\u001b[1;33m=\u001b[0m\u001b[1;32mTrue\u001b[0m\u001b[1;33m)\u001b[0m\u001b[1;33m\u001b[0m\u001b[1;33m\u001b[0m\u001b[0m\n",
      "\u001b[1;31mKeyboardInterrupt\u001b[0m: Interrupted by user"
     ]
    }
   ],
   "source": [
    "import json \n",
    "print(\"Welcome to the english dictionary app\")\n",
    "print(\"1.Add a new word\")\n",
    "print(\"2.Find a meaning\")\n",
    "print(\"3.Update new word\")\n",
    "print(\"4.Exit\")\n",
    "\n",
    "while True:\n",
    "    choices=int(input('Enter the choices '))\n",
    "\n",
    "    if choices == 1:\n",
    "        word=input(\"Enter the word\")\n",
    "        meaning=input(\"Enter the meaning\")\n",
    "        f=open(\"word.txt\",'w')\n",
    "        d={}\n",
    "        d[word]=meaning \n",
    "\n",
    "        json.dump(d,f)\n",
    "        f.close()\n",
    "    elif choices== 2:\n",
    "        word= input('Enter the word')\n",
    "        f=open(\"word.txt\",'r')\n",
    "        if word in d:\n",
    "            print('meaning of the word is:', d.get(word))\n",
    "        else:\n",
    "            print(\"the word is not found english dictionary app\")\n",
    "            json.dump(d,f)\n",
    "            f.close()\n",
    "    elif choices==3:\n",
    "        word=input(\"Enter the word\")\n",
    "        updated_meaning=input(\"Enter the meaning\")\n",
    "        f=open(\"word.txt\",'w')\n",
    "        \n",
    "        d[word]=updated_meaning \n",
    "\n",
    "        json.dump(d,f)\n",
    "        f.close()\n",
    "    else:\n",
    "        print(\"thanks for using english dictionary app\")\n",
    "        break "
   ]
  },
  {
   "cell_type": "markdown",
   "id": "fe4a1a10",
   "metadata": {},
   "source": [
    "Q1B: Library Book Management System\n",
    "\n",
    "In this project, a Library Book Management System will be implemented with the front end GUI developed using Tkinter and the backend database implemented in SQLite. It is a single window tkinter GUI application which will implement CRUD( create, read, update, delete) operations on a ‘books’ database, in SQLite. The window will contain text widgets to accept / display book title, author, year of publication, ISBN (optional) and a large text area/ list box to display the records which match the search criteria"
   ]
  },
  {
   "cell_type": "code",
   "execution_count": 36,
   "id": "51440783",
   "metadata": {},
   "outputs": [],
   "source": [
    "from tkinter import*\n",
    "import sqlite3\n",
    "import tkinter.ttk as ttk\n",
    "import tkinter.messagebox as tkMessageBox\n",
    "\n",
    "root=Tk()\n",
    "root.title('.....Library Managemet Application.....')\n",
    "\n",
    "def Database():\n",
    "    global conn, cursor\n",
    "    conn=sqlite3.connect('simple1.db')\n",
    "    cursor=conn.cursor()\n",
    "    cursor.execute(\"CREATE TABLE IF NOT EXISTS member(member_id INTEGER PRIMARY KEY AUTOINCREMENT NOT NULL,booktitle TEXT, author TEXT,year TEXT, isbn TEXT)\")\n",
    "\n",
    "def Create():\n",
    "    if BOOKTITLE.get()==\"\" or AUTHOR.get()==\"\" or  YEAR.get()==\"\"or ISBN.get()==\"\":\n",
    "        txt=result.config(text=\"please enter all fields\", fd=\"red\")\n",
    "    else:\n",
    "        Database()\n",
    "        cursor.execute(\"INSERT INTO member(booktitle, author, year,isbn) VALUES(?,?,?,?)\", (str(BOOKTITLE.get()),str(AUTHOR.get()),str(YEAR.get()),str(ISBN.get())))\n",
    "        conn.commit()\n",
    "        BOOKTITLE.set(\"\")\n",
    "        AUTHOR.set(\"\")\n",
    "        YEAR.set(\"\")\n",
    "        ISBN.set(\"\")\n",
    "        cursor.close()\n",
    "        conn.close()\n",
    "        txt_result.config(text=\"Record!\", fg=\"green\")\n",
    "                        \n",
    "def Read():\n",
    "    tree.delete(*tree.get_children())\n",
    "    Database()\n",
    "    cursor.execute(\"SELECT*FROM member ORDER BY author ASC\")\n",
    "    fetch=cursor.fetchall()\n",
    "    for data in fetch:\n",
    "        tree.insert('','end', values=(data[1],data[2],data[3],data[4]))\n",
    "    cursor.close()\n",
    "    txt_result.config(text=\"successfully fetched data!\", fg=\"black\")\n",
    "                        \n",
    "def Exit():\n",
    "         result=tkMessageBox.askquestion('Do you want to exit?(y/n)', icon= 'warning')\n",
    "         if result=='yes':\n",
    "            root.destroy()\n",
    "            exit() "
   ]
  },
  {
   "cell_type": "code",
   "execution_count": 37,
   "id": "a0204d65",
   "metadata": {},
   "outputs": [],
   "source": [
    "#VARIABLE DICLARATION\n",
    "\n",
    "BOOKTITLE= StringVar()\n",
    "AUTHOR=StringVar()\n",
    "YEAR=StringVar()\n",
    "ISBN=StringVar()"
   ]
  },
  {
   "cell_type": "code",
   "execution_count": 38,
   "id": "a10770f2",
   "metadata": {},
   "outputs": [],
   "source": [
    "#frames\n",
    "Top= Frame(root, width=900,height=50, bd=8, relief='raise')\n",
    "Top.pack(side=TOP)\n",
    "Left= Frame(root, width = 300, height=500, bd=8, relief='raise')\n",
    "Left.pack(side=LEFT)\n",
    "Right=Frame(root, width=600, height=500, bd=8, relief='raise')\n",
    "Right.pack(side=RIGHT)\n",
    "Forms=Frame(Left,width=300,height=450)\n",
    "Forms.pack(side=TOP)\n",
    "Buttons=Frame(Left,width=300,height=100, bd=8, relief='raise')\n",
    "Buttons.pack(side=BOTTOM)"
   ]
  },
  {
   "cell_type": "code",
   "execution_count": 39,
   "id": "224ec1fa",
   "metadata": {},
   "outputs": [],
   "source": [
    "#LABELS\n",
    "txt_title=Label(Top, width=900, font=('arial',24), text=\"Library Management Application\")\n",
    "txt_title.pack()\n",
    "txt_booktitle=Label(Forms, text=\"Booktitle\",font=('arial', 16),bd=16)\n",
    "txt_booktitle.grid(row=0,stick=\"e\")\n",
    "txt_author=Label(Forms, text=\"Author\",font=('arial', 16),bd=16)\n",
    "txt_author.grid(row=1,stick=\"e\")\n",
    "txt_year=Label(Forms, text=\"Year\",font=('arial', 16),bd=16)\n",
    "txt_year.grid(row=2,stick=\"e\")\n",
    "txt_isbn=Label(Forms, text=\"Isbn\",font=('arial', 16),bd=16)\n",
    "txt_isbn.grid(row=3,stick=\"e\")\n",
    "txt_result=Label(Buttons)\n",
    "txt_result.pack(side=TOP)\n"
   ]
  },
  {
   "cell_type": "code",
   "execution_count": 40,
   "id": "12ed6195",
   "metadata": {},
   "outputs": [],
   "source": [
    "#Entry widgets\n",
    "booktitle=Entry(Forms, textvariable= BOOKTITLE, width=30)\n",
    "booktitle.grid(row=0, column=1)\n",
    "author=Entry(Forms, textvariable= AUTHOR, width=30)\n",
    "author.grid(row=1, column=1)\n",
    "year=Entry(Forms, textvariable= YEAR, width=30)\n",
    "year.grid(row=2, column=1)\n",
    "isbn=Entry(Forms, textvariable= ISBN, width=30)\n",
    "isbn.grid(row=3, column=1)"
   ]
  },
  {
   "cell_type": "code",
   "execution_count": 41,
   "id": "f8c8fcc3",
   "metadata": {},
   "outputs": [],
   "source": [
    "#Button widget\n",
    "btn_create = Button(Buttons, width=10, text=\"Create\", command=Create)\n",
    "btn_create.pack(side=LEFT)\n",
    "btn_read = Button(Buttons, width=10, text=\"Read\", command=Read)\n",
    "btn_read.pack(side=LEFT)\n",
    "btn_update = Button(Buttons, width=10, text=\"Update\", state=DISABLED)\n",
    "btn_update.pack(side=LEFT)\n",
    "btn_delete = Button(Buttons, width=10, text=\"Delete\", state=DISABLED)\n",
    "btn_delete.pack(side=LEFT)\n",
    "btn_exit = Button(Buttons, width=10, text=\"Exit\", command=Exit)\n",
    "btn_exit.pack(side=LEFT)"
   ]
  },
  {
   "cell_type": "code",
   "execution_count": 42,
   "id": "94a566de",
   "metadata": {},
   "outputs": [],
   "source": [
    "#list widget\n",
    "\n",
    "scrollbary=Scrollbar(Right, orient=VERTICAL)\n",
    "scrollbarx=Scrollbar(Right, orient=HORIZONTAL)\n",
    "\n",
    "tree=ttk.Treeview(Right, column=(\"Booktitle\",\"Author\",\"Year\",\"Isbn\"))\n",
    "\n",
    "scrollbary.config(command=tree.yview)\n",
    "scrollbary.pack(side=RIGHT, fill=Y)\n",
    "scrollbarx.config(command=tree.xview)\n",
    "scrollbarx.pack(side=RIGHT, fill=X)\n",
    "tree.heading('Booktitle', text=\"Booktitle\",anchor=W)\n",
    "tree.heading('Author', text=\"Author\",anchor=W)\n",
    "tree.heading('Year', text=\"Year\",anchor=W)\n",
    "tree.heading('Isbn', text=\"Isbn\",anchor=W)\n",
    "tree.column('#0',stretch=NO, minwidth=0, width=0)\n",
    "tree.column('#1',stretch=NO, minwidth=0, width=80)\n",
    "tree.column('#2',stretch=NO, minwidth=0, width=120)\n",
    "tree.column('#3',stretch=NO, minwidth=0, width=80)\n",
    "tree.column('#4',stretch=NO, minwidth=0, width=150)\n",
    "tree.pack()"
   ]
  },
  {
   "cell_type": "code",
   "execution_count": 43,
   "id": "9182bdae",
   "metadata": {},
   "outputs": [],
   "source": [
    "#initialization\n",
    "\n",
    "if __name__ == '__main__':\n",
    "    root.mainloop()"
   ]
  },
  {
   "cell_type": "code",
   "execution_count": null,
   "id": "d6b6177a",
   "metadata": {},
   "outputs": [],
   "source": []
  },
  {
   "cell_type": "code",
   "execution_count": null,
   "id": "e7e2eed4",
   "metadata": {},
   "outputs": [],
   "source": []
  },
  {
   "cell_type": "code",
   "execution_count": null,
   "id": "c14c5109",
   "metadata": {},
   "outputs": [],
   "source": []
  }
 ],
 "metadata": {
  "kernelspec": {
   "display_name": "Python 3 (ipykernel)",
   "language": "python",
   "name": "python3"
  },
  "language_info": {
   "codemirror_mode": {
    "name": "ipython",
    "version": 3
   },
   "file_extension": ".py",
   "mimetype": "text/x-python",
   "name": "python",
   "nbconvert_exporter": "python",
   "pygments_lexer": "ipython3",
   "version": "3.9.13"
  }
 },
 "nbformat": 4,
 "nbformat_minor": 5
}
